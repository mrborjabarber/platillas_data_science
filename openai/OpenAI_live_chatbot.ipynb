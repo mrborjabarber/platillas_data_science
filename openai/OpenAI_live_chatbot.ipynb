{
 "cells": [
  {
   "cell_type": "code",
   "execution_count": null,
   "id": "2ff781f0",
   "metadata": {},
   "outputs": [
    {
     "name": "stdout",
     "output_type": "stream",
     "text": [
      "Especialista: En el contexto del baby sign, el gesto para \"comer\" es muy sencillo y práctico para que los bebés lo aprendan. Para enseñar este signo, sigue estos pasos:\n",
      "\n",
      "1. **Demuestra el Signo**: Lleva la punta de los dedos de una mano juntos y acércalos repetidamente a la boca, como si estuvieras llevando comida a tu boca. Es un gesto similar al de llevar una cuchara a la boca.\n",
      "\n",
      "2. **Asocia el Gesto con la Palabra**: Cada vez que hagas este gesto, di la palabra \"comer\" en voz alta. Esto ayudará al bebé a asociar el gesto con la acción y la palabra.\n",
      "\n",
      "3. **Usa el Signo Consistentemente**: Haz el signo de \"comer\" antes de cada comida o cuando hables sobre comida. La consistencia ayudará a tu bebé a entender el significado del gesto.\n",
      "\n",
      "4. **Anima a tu Bebé a Intentarlo**: Una vez que hayas mostrado el signo varias veces, anímalos a imitarlo. Los bebés aprenden observando y repitiendo, así que dale tiempo para que lo intente.\n",
      "\n",
      "Recuerda que cada bebé aprende a su propio ritmo, así que sé paciente y sigue haciendo los signos con regularidad. Es una herramienta maravillosa para ayudar a los pequeños a comunicarse antes de que puedan hablar.\n"
     ]
    }
   ],
   "source": [
    "# Importamos los módulos necesarios\n",
    "import os  # Para acceder a variables de entorno del sistema\n",
    "from dotenv import load_dotenv  # Para cargar variables de entorno desde un archivo .env\n",
    "from openai import OpenAI  # Cliente de la API de OpenAI\n",
    "\n",
    "# Cargamos las variables de entorno desde un archivo .env (como la API key de OpenAI)\n",
    "load_dotenv()\n",
    "\n",
    "# Creamos un cliente de OpenAI usando la clave API almacenada en las variables de entorno\n",
    "client = OpenAI(api_key=os.getenv(\"OPENAI_API_KEY\"))\n",
    "\n",
    "# Definimos una función que toma el mensaje del usuario y devuelve una respuesta del modelo\n",
    "def responder_mensaje(mensaje_usuario):\n",
    "    # Enviamos una solicitud al modelo GPT-4o con el mensaje del usuario\n",
    "    response = client.chat.completions.create(\n",
    "        model=\"gpt-4o\",  # Modelo utilizado\n",
    "        messages=[  # Conversación simulada\n",
    "            {\"role\": \"system\", \"content\": \"Eres un educador infantil experto en baby sign.\"},  # Contexto del sistema\n",
    "            {\"role\": \"user\", \"content\": mensaje_usuario}  # Entrada del usuario\n",
    "        ],\n",
    "        temperature=0.7,  # Nivel de creatividad de la respuesta (0.7 es moderadamente creativo)\n",
    "        max_tokens=550  # Máximo número de tokens en la respuesta (limita su longitud)\n",
    "    )\n",
    "    # Retornamos solo el contenido de la respuesta del modelo\n",
    "    return response.choices[0].message.content\n",
    "\n",
    "# --- BLOQUE DE USO ---\n",
    "\n",
    "# Solicitamos un mensaje al usuario (entrada por teclado)\n",
    "mensaje = input(\"Escribe tu mensaje: \")\n",
    "\n",
    "# Llamamos a la función para obtener la respuesta del modelo\n",
    "respuesta = responder_mensaje(mensaje)\n",
    "\n",
    "# Mostramos la respuesta del \"especialista en baby sign\"\n",
    "print(\"Especialista:\", respuesta)\n"
   ]
  },
  {
   "cell_type": "code",
   "execution_count": null,
   "id": "a3ce6d06",
   "metadata": {},
   "outputs": [],
   "source": []
  }
 ],
 "metadata": {
  "kernelspec": {
   "display_name": "data_basic",
   "language": "python",
   "name": "python3"
  },
  "language_info": {
   "codemirror_mode": {
    "name": "ipython",
    "version": 3
   },
   "file_extension": ".py",
   "mimetype": "text/x-python",
   "name": "python",
   "nbconvert_exporter": "python",
   "pygments_lexer": "ipython3",
   "version": "3.11.9"
  }
 },
 "nbformat": 4,
 "nbformat_minor": 5
}
