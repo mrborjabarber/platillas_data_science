{
 "cells": [
  {
   "cell_type": "code",
   "execution_count": null,
   "id": "4d0b222d",
   "metadata": {},
   "outputs": [
    {
     "name": "stdout",
     "output_type": "stream",
     "text": [
      "Transcripción\n",
      "Hola, soy Borja Barber, un científico de datos y creador de esta plantilla.\n"
     ]
    }
   ],
   "source": [
    "# Importa el módulo 'os' para acceder a variables de entorno del sistema\n",
    "import os\n",
    "\n",
    "# Importa 'load_dotenv' para cargar variables de entorno desde un archivo .env\n",
    "from dotenv import load_dotenv\n",
    "\n",
    "# Importa la clase OpenAI desde la librería openai\n",
    "from openai import OpenAI\n",
    "\n",
    "# Importa librerías estándar para hacer peticiones HTTP y manejar JSON (aunque no se usan directamente aquí)\n",
    "import requests\n",
    "import json\n",
    "\n",
    "# Carga las variables de entorno definidas en un archivo .env, como la clave API\n",
    "load_dotenv()\n",
    "\n",
    "# Crea una instancia del cliente de OpenAI utilizando la clave almacenada en las variables de entorno\n",
    "client = OpenAI(api_key=os.getenv(\"OPENAI_API_KEY\"))\n",
    "\n",
    "# Abre el archivo de audio \"speech.mp3\" en modo binario para lectura ('rb')\n",
    "audio_file = open(\"speech.mp3\", \"rb\")\n",
    "\n",
    "# Envía el archivo de audio al modelo de transcripción de OpenAI (Whisper)\n",
    "transcript = client.audio.transcriptions.create(\n",
    "    model=\"whisper-1\",  # Modelo usado para la transcripción de audio a texto\n",
    "    file=audio_file     # Archivo de audio que se desea transcribir\n",
    ")\n",
    "\n",
    "# Imprime en pantalla el texto transcrito del archivo de audio\n",
    "print(\"Transcripción\")\n",
    "print(transcript.text)\n",
    "\n"
   ]
  },
  {
   "cell_type": "code",
   "execution_count": null,
   "id": "1e852d21",
   "metadata": {},
   "outputs": [],
   "source": []
  }
 ],
 "metadata": {
  "kernelspec": {
   "display_name": "base",
   "language": "python",
   "name": "python3"
  },
  "language_info": {
   "codemirror_mode": {
    "name": "ipython",
    "version": 3
   },
   "file_extension": ".py",
   "mimetype": "text/x-python",
   "name": "python",
   "nbconvert_exporter": "python",
   "pygments_lexer": "ipython3",
   "version": "3.12.7"
  }
 },
 "nbformat": 4,
 "nbformat_minor": 5
}
