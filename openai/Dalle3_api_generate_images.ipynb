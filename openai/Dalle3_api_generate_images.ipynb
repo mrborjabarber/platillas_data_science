{
 "cells": [
  {
   "cell_type": "code",
   "execution_count": null,
   "id": "7b9d5ad3",
   "metadata": {},
   "outputs": [],
   "source": [
    "\"\"\"\n",
    "DALL·E 3 API\n",
    "\n",
    "DALL·E 3 es un modelo de generación de imágenes de OpenAI.\n",
    "\n",
    "Para este ejemplo hemos creado un prompt que describe la imagen que queremos generar y la calidad de la imagen. Luego, hemos ejecutado el modelo con el prompt y la calidad, y recibimos la URL de la imagen generada.\n",
    "\"\"\"\n",
    "\n",
    "import os\n",
    "from dotenv import load_dotenv\n",
    "from openai import OpenAI\n",
    "import requests\n",
    "import json\n",
    "\n",
    "load_dotenv()\n",
    "\n",
    "client = OpenAI(api_key=os.getenv(\"OPENAI_API_KEY\"))\n",
    "\n",
    "prompt = \"Un atardecer en la ciudad\"\n",
    "quality = \"standard\"\n",
    "\n",
    "response = client.images.generate(\n",
    "    model=\"dall-e-3\",\n",
    "    prompt=prompt,\n",
    "    quality=quality,\n",
    "    n=1\n",
    ")\n",
    "\n",
    "print(response.data[0].url)"
   ]
  }
 ],
 "metadata": {
  "language_info": {
   "name": "python"
  }
 },
 "nbformat": 4,
 "nbformat_minor": 5
}
