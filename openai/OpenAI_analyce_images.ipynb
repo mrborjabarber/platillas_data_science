{
 "cells": [
  {
   "cell_type": "code",
   "execution_count": 2,
   "id": "da589f28",
   "metadata": {},
   "outputs": [
    {
     "name": "stdout",
     "output_type": "stream",
     "text": [
      "Respuesta del analisis de la imagen\n",
      "Claro, aquí tienes un análisis de la imagen:\n",
      "\n",
      "Esta es una página de perfil en GitHub para un usuario llamado Borja Barber. El perfil muestra lo siguiente:\n",
      "\n",
      "- **Descripción Personal**: Borja se describe como un Data Scientist e ingeniero de Inteligencia Artificial, apasionado por transformar datos en insights y construir soluciones de IA.\n",
      "  \n",
      "- **Educación y Experiencia**:\n",
      "  - Graduado como Data Scientist en The Bridge School.\n",
      "  - Experiencia en Machine Learning, Deep Learning, sistemas multi-agente y visión por computadora.\n",
      "  - Actualmente interesado en arquitecturas de agentes autónomos y colaboración IA-humano.\n",
      "  - Le gusta compartir conocimiento a través de charlas, blogs y mini-proyectos.\n",
      "\n",
      "- **Ubicación y Contacto**:\n",
      "  - Vive en Madrid.\n",
      "  - Correo electrónico disponible: borjagbarber@gmail.com.\n",
      "  - Enlace a LinkedIn: in/borjabarber.\n",
      "\n",
      "- **Habilidades y Herramientas**:\n",
      "  - Uso de herramientas como Python, Pandas, Scikit-Learn, Matplotlib, Seaborn, TensorFlow, PyTorch, YOLOv11, OpenCV, Docker, Azure, AWS, GCP, SQL, PostgreSQL, MongoDB, OpenAI, Jupyter, y Streamlit.\n",
      "  \n",
      "- **Interfaz de GitHub**:\n",
      "  - Muestra secciones para repositorios, proyectos, paquetes y estrellas.\n",
      "  \n",
      "Estos elementos reflejan un enfoque tecnológicamente avanzado y un interés claro en la inteligencia artificial y el aprendizaje automático.\n"
     ]
    }
   ],
   "source": [
    "# Importamos módulos necesarios\n",
    "import os  # Para trabajar con variables de entorno\n",
    "from dotenv import load_dotenv  # Para cargar variables de entorno desde un archivo .env\n",
    "from openai import OpenAI  # Cliente de la API de OpenAI\n",
    "import base64  # Para codificar imágenes en base64\n",
    "\n",
    "# Cargamos las variables de entorno desde un archivo .env (como la clave API)\n",
    "load_dotenv()\n",
    "\n",
    "# Inicializamos el cliente de OpenAI usando la API key almacenada en variables de entorno\n",
    "client = OpenAI(api_key=os.getenv(\"OPENAI_API_KEY\"))\n",
    "\n",
    "# Función que convierte una imagen local a una cadena en base64\n",
    "def encode_image_to_base64(image_path):\n",
    "    with open(image_path, \"rb\") as image_file:  # Abrimos la imagen en modo binario\n",
    "        return base64.b64encode(image_file.read()).decode('utf-8')  # Codificamos en base64 y convertimos a string\n",
    "\n",
    "# Lista de mensajes simulando una conversación con el asistente\n",
    "messages = [\n",
    "    {\n",
    "        \"role\": \"system\",  # Mensaje del sistema para configurar el comportamiento del asistente\n",
    "        \"content\": \"Eres un asistente que analiza las imagenes a gran detalle.\"\n",
    "    },\n",
    "    {\n",
    "        \"role\": \"user\",  # Mensaje del usuario que incluye texto e imagen\n",
    "        \"content\": [\n",
    "            {\n",
    "                \"type\": \"text\",  # Parte de texto del mensaje\n",
    "                \"text\": \"Hola, ¿puedes analizar esta imagen?\",\n",
    "            },\n",
    "            {\n",
    "                \"type\": \"image_url\",  # Parte de imagen del mensaje\n",
    "                \"image_url\": {\n",
    "                    # Codificamos una imagen local en base64 y la insertamos como URL de datos\n",
    "                    \"url\": f\"data:image/png;base64,{encode_image_to_base64('./images/image.png')}\"\n",
    "                }\n",
    "            }\n",
    "        ]\n",
    "    }\n",
    "]\n",
    "\n",
    "# Enviamos la conversación al modelo de OpenAI (GPT-4o) para que responda\n",
    "response = client.chat.completions.create(\n",
    "    model=\"gpt-4o\",  # Usamos el modelo GPT-4o, que puede procesar imágenes\n",
    "    messages=messages  # Mensajes de la conversación que incluyen la imagen\n",
    ")\n",
    "\n",
    "# Imprimimos la respuesta del asistente\n",
    "print(\"Respuesta del analisis de la imagen\")\n",
    "print(response.choices[0].message.content)\n"
   ]
  },
  {
   "cell_type": "code",
   "execution_count": null,
   "id": "53e462f7",
   "metadata": {},
   "outputs": [],
   "source": []
  }
 ],
 "metadata": {
  "kernelspec": {
   "display_name": "data_basic",
   "language": "python",
   "name": "python3"
  },
  "language_info": {
   "codemirror_mode": {
    "name": "ipython",
    "version": 3
   },
   "file_extension": ".py",
   "mimetype": "text/x-python",
   "name": "python",
   "nbconvert_exporter": "python",
   "pygments_lexer": "ipython3",
   "version": "3.11.9"
  }
 },
 "nbformat": 4,
 "nbformat_minor": 5
}
