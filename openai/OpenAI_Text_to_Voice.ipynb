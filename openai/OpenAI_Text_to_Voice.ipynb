{
 "cells": [
  {
   "cell_type": "code",
   "execution_count": null,
   "id": "5d05ba7d",
   "metadata": {},
   "outputs": [],
   "source": [
    "# Importa el módulo 'os' para acceder a variables de entorno del sistema\n",
    "import os\n",
    "\n",
    "# Importa 'load_dotenv' para cargar las variables de entorno desde un archivo .env\n",
    "from dotenv import load_dotenv\n",
    "\n",
    "# Importa la clase OpenAI desde la librería openai\n",
    "from openai import OpenAI\n",
    "\n",
    "# Importa librerías estándar para hacer peticiones HTTP y manejar datos en formato JSON\n",
    "import requests\n",
    "import json\n",
    "\n",
    "# Carga las variables de entorno desde un archivo .env, útil para ocultar claves como la API key\n",
    "load_dotenv()\n",
    "\n",
    "# Crea una instancia del cliente de OpenAI utilizando la clave API almacenada en la variable de entorno\n",
    "client = OpenAI(api_key=os.getenv(\"OPENAI_API_KEY\"))\n",
    "\n",
    "# Solicita la generación de audio (texto a voz) usando el modelo de TTS (text-to-speech)\n",
    "# Se especifica:\n",
    "# - modelo: \"tts-1\" → modelo de texto a voz de OpenAI\n",
    "# - voice: \"alloy\" → voz que se desea usar para sintetizar\n",
    "# - input: el texto que será convertido en audio\n",
    "\n",
    "# La llamada se hace en un bloque 'with' para manejar correctamente el streaming del archivo\n",
    "with client.audio.speech.with_streaming_response.create(\n",
    "    model=\"tts-1\",\n",
    "    voice=\"alloy\",\n",
    "    input=\"Hola, Soy Borja Barber, un científico de datos y creador de esta plantilla\"\n",
    ") as response:\n",
    "    # Guarda el audio generado en un archivo llamado \"speech.mp3\"\n",
    "    response.stream_to_file(\"speech.mp3\")\n"
   ]
  },
  {
   "cell_type": "code",
   "execution_count": null,
   "id": "2df0afdb",
   "metadata": {},
   "outputs": [],
   "source": []
  }
 ],
 "metadata": {
  "kernelspec": {
   "display_name": "data_basic",
   "language": "python",
   "name": "python3"
  },
  "language_info": {
   "codemirror_mode": {
    "name": "ipython",
    "version": 3
   },
   "file_extension": ".py",
   "mimetype": "text/x-python",
   "name": "python",
   "nbconvert_exporter": "python",
   "pygments_lexer": "ipython3",
   "version": "3.11.9"
  }
 },
 "nbformat": 4,
 "nbformat_minor": 5
}
