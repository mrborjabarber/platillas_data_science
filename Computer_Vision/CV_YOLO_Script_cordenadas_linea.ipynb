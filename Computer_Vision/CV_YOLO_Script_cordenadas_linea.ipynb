{
 "cells": [
  {
   "cell_type": "code",
   "execution_count": 3,
   "id": "523c5f44",
   "metadata": {},
   "outputs": [
    {
     "name": "stdout",
     "output_type": "stream",
     "text": [
      "Coordenada original: (176, 194)\n",
      "Coordenada original: (484, 184)\n",
      "\n",
      "Línea lista: [(176, 194), (484, 184)]\n",
      "\n",
      "Usa esta línea en tu código:\n",
      "region_points = [(176, 194), (484, 184)]\n"
     ]
    }
   ],
   "source": [
    "import cv2\n",
    "\n",
    "video_path = './video/coches.mp4'\n",
    "scale = 0.5  # Escala de la ventana, ajusta a 0.3 o 0.7 según tu pantalla\n",
    "\n",
    "points = []\n",
    "\n",
    "def click_event(event, x, y, flags, params):\n",
    "    if event == cv2.EVENT_LBUTTONDOWN:\n",
    "        # Convertir coordenadas escaladas a originales\n",
    "        x_orig = int(x / scale)\n",
    "        y_orig = int(y / scale)\n",
    "        points.append((x_orig, y_orig))\n",
    "        print(f\"Coordenada original: ({x_orig}, {y_orig})\")\n",
    "        if len(points) == 2:\n",
    "            print(f\"\\nLínea lista: {points}\\n\")\n",
    "\n",
    "cap = cv2.VideoCapture(video_path)\n",
    "\n",
    "while True:\n",
    "    ret, frame = cap.read()\n",
    "    if not ret:\n",
    "        break\n",
    "\n",
    "    frame_resized = cv2.resize(frame, (0, 0), fx=scale, fy=scale)\n",
    "    clone = frame_resized.copy()\n",
    "\n",
    "    # Dibujar línea si ya hay dos puntos\n",
    "    if len(points) == 2:\n",
    "        pt1 = (int(points[0][0] * scale), int(points[0][1] * scale))\n",
    "        pt2 = (int(points[1][0] * scale), int(points[1][1] * scale))\n",
    "        cv2.line(clone, pt1, pt2, (0, 255, 0), 2)\n",
    "\n",
    "    cv2.imshow(\"Haz clic en dos puntos para definir la línea\", clone)\n",
    "    cv2.setMouseCallback(\"Haz clic en dos puntos para definir la línea\", click_event)\n",
    "\n",
    "    key = cv2.waitKey(20)\n",
    "    if key == ord('q') or len(points) == 2:\n",
    "        break\n",
    "\n",
    "cap.release()\n",
    "cv2.destroyAllWindows()\n",
    "\n",
    "if len(points) == 2:\n",
    "    print(f\"Usa esta línea en tu código:\\nregion_points = {points}\")\n",
    "else:\n",
    "    print(\"No seleccionaste dos puntos.\")"
   ]
  }
 ],
 "metadata": {
  "kernelspec": {
   "display_name": "yolo",
   "language": "python",
   "name": "python3"
  },
  "language_info": {
   "codemirror_mode": {
    "name": "ipython",
    "version": 3
   },
   "file_extension": ".py",
   "mimetype": "text/x-python",
   "name": "python",
   "nbconvert_exporter": "python",
   "pygments_lexer": "ipython3",
   "version": "3.9.11"
  }
 },
 "nbformat": 4,
 "nbformat_minor": 5
}
