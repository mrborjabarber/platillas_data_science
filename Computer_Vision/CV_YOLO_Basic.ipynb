{
 "cells": [
  {
   "cell_type": "code",
   "execution_count": null,
   "id": "719ef4b4",
   "metadata": {},
   "outputs": [],
   "source": [
    "from ultralytics import YOLO\n",
    "import cv2\n",
    "\n",
    "\n",
    "model = YOLO(\"yolov11n.pt\")  \n"
   ]
  },
  {
   "cell_type": "code",
   "execution_count": null,
   "id": "b238ff72",
   "metadata": {},
   "outputs": [],
   "source": [
    "# imagen\n",
    "\n",
    "img = cv2.imread(\"tu_imagen.jpg\")\n",
    "results = model(img)\n",
    "annotated_frame = results[0].plot()\n",
    "cv2.imshow(\"Detección - Imagen\", annotated_frame)\n",
    "cv2.waitKey(0)\n",
    "cv2.destroyAllWindows()"
   ]
  },
  {
   "cell_type": "code",
   "execution_count": null,
   "id": "5fee5e08",
   "metadata": {},
   "outputs": [],
   "source": [
    "# Video\n",
    "cap = cv2.VideoCapture(\"tu_video.mp4\")\n",
    "while cap.isOpened():\n",
    "    ret, frame = cap.read()\n",
    "    if not ret:\n",
    "        break\n",
    "    results = model(frame)\n",
    "    annotated_frame = results[0].plot()\n",
    "    cv2.imshow(\"Detección - Video\", annotated_frame)\n",
    "    if cv2.waitKey(1) & 0xFF == ord('q'):  # Presiona 'q' para salir\n",
    "        break\n",
    "cap.release()\n",
    "cv2.destroyAllWindows()"
   ]
  },
  {
   "cell_type": "code",
   "execution_count": null,
   "id": "691f6127",
   "metadata": {},
   "outputs": [],
   "source": [
    "# webcam\n",
    "cap = cv2.VideoCapture(0)\n",
    "while True:\n",
    "    ret, frame = cap.read()\n",
    "    if not ret:\n",
    "        break\n",
    "    results = model(frame)\n",
    "    annotated_frame = results[0].plot()\n",
    "    cv2.imshow(\"Detección - Webcam\", annotated_frame)\n",
    "    if cv2.waitKey(1) & 0xFF == ord('q'):  # Presiona 'q' para salir\n",
    "        break\n",
    "cap.release()\n",
    "cv2.destroyAllWindows()"
   ]
  }
 ],
 "metadata": {
  "kernelspec": {
   "display_name": "yolo",
   "language": "python",
   "name": "python3"
  },
  "language_info": {
   "name": "python",
   "version": "3.9.11"
  }
 },
 "nbformat": 4,
 "nbformat_minor": 5
}
