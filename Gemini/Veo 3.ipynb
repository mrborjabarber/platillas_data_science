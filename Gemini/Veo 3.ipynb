{
 "cells": [
  {
   "cell_type": "markdown",
   "id": "d526e949",
   "metadata": {},
   "source": [
    "### plantilla para uso de veo 3 con la API de GEMINI"
   ]
  },
  {
   "cell_type": "code",
   "execution_count": null,
   "id": "4b333ac3",
   "metadata": {},
   "outputs": [],
   "source": [
    "import time\n",
    "\n",
    "from google import genai\n",
    "\n",
    "\n",
    "client = genai.Client()\n",
    "\n",
    "\n",
    "prompt = \"\"\"A close up of two people staring at a cryptic drawing on a wall, torchlight flickering.\n",
    "\n",
    "A man murmurs, 'This must be it. That's the secret code.' The woman looks at him and whispering excitedly, 'What did you find?'\"\"\"\n",
    "\n",
    "\n",
    "# Start the generation job\n",
    "\n",
    "operation = client.models.generate_videos(\n",
    "\n",
    "    model=\"veo-3.0-generate-preview\",\n",
    "\n",
    "    prompt=prompt,\n",
    "\n",
    ")\n",
    "\n",
    "\n",
    "# Poll for the result\n",
    "\n",
    "while not operation.done:\n",
    "\n",
    "    print(\"Waiting for video generation to complete...\")\n",
    "\n",
    "    time.sleep(10)\n",
    "\n",
    "    operation = client.operations.get(operation)\n",
    "\n",
    "\n",
    "# Download the final video\n",
    "\n",
    "video = operation.response.generated_videos[0]\n",
    "\n",
    "video.video.save(\"dialogue_example.mp4\")\n",
    "\n",
    "print(\"Generated video saved to dialogue_example.mp4\")"
   ]
  }
 ],
 "metadata": {
  "language_info": {
   "name": "python"
  }
 },
 "nbformat": 4,
 "nbformat_minor": 5
}
